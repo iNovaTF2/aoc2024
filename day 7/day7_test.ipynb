{
 "cells": [
  {
   "cell_type": "code",
   "execution_count": 1,
   "metadata": {},
   "outputs": [],
   "source": [
    "import itertools"
   ]
  },
  {
   "cell_type": "code",
   "execution_count": 2,
   "metadata": {},
   "outputs": [],
   "source": [
    "operators = ['+', '*']\n",
    "nums = [81, 40, 27]\n",
    "permutations = list(itertools.permutations(nums))\n",
    "operator_combinations = list(itertools.product(operators, repeat=2))"
   ]
  },
  {
   "cell_type": "code",
   "execution_count": 4,
   "metadata": {},
   "outputs": [
    {
     "data": {
      "text/plain": [
       "[('+', '+'), ('+', '*'), ('*', '+'), ('*', '*')]"
      ]
     },
     "execution_count": 4,
     "metadata": {},
     "output_type": "execute_result"
    }
   ],
   "source": [
    "operator_combinations"
   ]
  },
  {
   "cell_type": "code",
   "execution_count": 6,
   "metadata": {},
   "outputs": [
    {
     "data": {
      "text/plain": [
       "148"
      ]
     },
     "execution_count": 6,
     "metadata": {},
     "output_type": "execute_result"
    }
   ],
   "source": [
    "op_test = operator_combinations[0]\n",
    "expr = f\"({nums[0]} {op_test[0]} {nums[1]} {op_test[1]} {nums[2]})\"\n",
    "eval(expr)"
   ]
  },
  {
   "cell_type": "code",
   "execution_count": 11,
   "metadata": {},
   "outputs": [],
   "source": [
    "s = \"\"\n",
    "for i in range(len(op_test)):\n",
    "    s += f\"{nums[i]} {op_test[0]} \"\n",
    "s += f\"{nums[-1]}\""
   ]
  },
  {
   "cell_type": "code",
   "execution_count": 21,
   "metadata": {},
   "outputs": [
    {
     "name": "stdout",
     "output_type": "stream",
     "text": [
      "('+', '+', '*')\n",
      "11 + 6 + 16 * 20\n"
     ]
    }
   ],
   "source": [
    "nums = [11, 6, 16, 20]\n",
    "operators = ['+', '*']\n",
    "operator_combinations = list(itertools.product(operators, repeat=len(nums)-1))\n",
    "op_test = operator_combinations[1]\n",
    "print(op_test)\n",
    "\n",
    "s = \"\"\n",
    "for i in range(len(op_test)):\n",
    "    s += f\"{nums[i]} {op_test[i]} \"\n",
    "s += f\"{nums[-1]}\"\n",
    "\n",
    "print(s)"
   ]
  },
  {
   "cell_type": "code",
   "execution_count": 51,
   "metadata": {},
   "outputs": [],
   "source": [
    "input_text = \"\"\"190: 10 19\n",
    "3267: 81 40 27\n",
    "83: 17 5\n",
    "156: 15 6\n",
    "7290: 6 8 6 15\n",
    "161011: 16 10 13\n",
    "192: 17 8 14\n",
    "21037: 9 7 18 13\n",
    "292: 11 6 16 20\"\"\"\n",
    "\n",
    "input_split = input_text.splitlines()\n",
    "\n",
    "for line in input_split:\n",
    "    target, array = line.split(\":\")\n",
    "    target = int(target)\n",
    "    array = [int(x) for x in array.split()]\n",
    "\n",
    "    \n"
   ]
  },
  {
   "cell_type": "code",
   "execution_count": 52,
   "metadata": {},
   "outputs": [],
   "source": [
    "def check_combinations(target, num_array):\n",
    "    operators = ['+', '*']\n",
    "    operator_combinations = list(itertools.product(operators, repeat=len(num_array)-1))\n",
    "\n",
    "    for op_combo in operator_combinations:\n",
    "        s = f\"{num_array[0]}\"\n",
    "        for i in range(len(op_combo)):\n",
    "            s = f\"({s} {op_combo[i]} {num_array[i+1]})\"\n",
    "\n",
    "        if target == eval(s):\n",
    "            return True\n",
    "    \n",
    "    return False"
   ]
  },
  {
   "cell_type": "code",
   "execution_count": 53,
   "metadata": {},
   "outputs": [],
   "source": [
    "input_text = \"\"\"190: 10 19\n",
    "3267: 81 40 27\n",
    "83: 17 5\n",
    "156: 15 6\n",
    "7290: 6 8 6 15\n",
    "161011: 16 10 13\n",
    "192: 17 8 14\n",
    "21037: 9 7 18 13\n",
    "292: 11 6 16 20\"\"\"\n",
    "\n",
    "input_split = input_text.splitlines()\n",
    "correct = []\n",
    "for line in input_split:\n",
    "    target, array = line.split(\":\")\n",
    "    target = int(target)\n",
    "    array = [int(x) for x in array.split()]\n",
    "\n",
    "    check = check_combinations(target, array)\n",
    "    if check:\n",
    "        correct.append(target)"
   ]
  },
  {
   "cell_type": "code",
   "execution_count": 54,
   "metadata": {},
   "outputs": [
    {
     "data": {
      "text/plain": [
       "[190, 3267, 292]"
      ]
     },
     "execution_count": 54,
     "metadata": {},
     "output_type": "execute_result"
    }
   ],
   "source": [
    "correct"
   ]
  },
  {
   "cell_type": "code",
   "execution_count": 50,
   "metadata": {},
   "outputs": [
    {
     "name": "stdout",
     "output_type": "stream",
     "text": [
      "(((11 + 6) + 16) + 20) = 53\n",
      "(((11 + 6) + 16) * 20) = 660\n",
      "(((11 + 6) * 16) + 20) = 292\n",
      "(((11 + 6) * 16) * 20) = 5440\n",
      "(((11 * 6) + 16) + 20) = 102\n",
      "(((11 * 6) + 16) * 20) = 1640\n",
      "(((11 * 6) * 16) + 20) = 1076\n",
      "(((11 * 6) * 16) * 20) = 21120\n"
     ]
    }
   ],
   "source": [
    "operators = ['+', '*']\n",
    "num_array = [11, 6, 16, 20]\n",
    "operator_combinations = list(itertools.product(operators, repeat=len(num_array)-1))\n",
    "target = 292\n",
    "\n",
    "for op_combo in operator_combinations:\n",
    "    s = f\"{num_array[0]}\"\n",
    "    for i in range(len(op_combo)):\n",
    "        s = f\"({s} {op_combo[i]} {num_array[i+1]})\"\n",
    "    print(f\"{s} = {eval(s)}\")\n",
    "\n"
   ]
  },
  {
   "cell_type": "code",
   "execution_count": 59,
   "metadata": {},
   "outputs": [
    {
     "name": "stdout",
     "output_type": "stream",
     "text": [
      "156\n"
     ]
    }
   ],
   "source": [
    "operators = ['+', '*', '||']\n",
    "num_array = [15, 6]\n",
    "operator_combinations = list(itertools.product(operators, repeat=len(num_array)-1))\n",
    "\n",
    "for op_combo in operator_combinations:\n",
    "    s = f\"{num_array[0]}\"\n",
    "    for i in range(len(op_combo)):\n",
    "        if op_combo[i] == \"||\":\n",
    "            int(str(num_array[i]) + str(num_array[i+1]))"
   ]
  },
  {
   "cell_type": "code",
   "execution_count": null,
   "metadata": {},
   "outputs": [],
   "source": []
  }
 ],
 "metadata": {
  "kernelspec": {
   "display_name": "thesis-env",
   "language": "python",
   "name": "python3"
  },
  "language_info": {
   "codemirror_mode": {
    "name": "ipython",
    "version": 3
   },
   "file_extension": ".py",
   "mimetype": "text/x-python",
   "name": "python",
   "nbconvert_exporter": "python",
   "pygments_lexer": "ipython3",
   "version": "3.12.3"
  }
 },
 "nbformat": 4,
 "nbformat_minor": 2
}
