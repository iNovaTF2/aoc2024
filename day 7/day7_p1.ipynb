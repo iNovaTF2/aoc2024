{
 "cells": [
  {
   "cell_type": "code",
   "execution_count": 8,
   "metadata": {},
   "outputs": [],
   "source": [
    "import itertools"
   ]
  },
  {
   "cell_type": "code",
   "execution_count": 9,
   "metadata": {},
   "outputs": [],
   "source": [
    "def check_combinations(target, num_array):\n",
    "    operators = ['+', '*']\n",
    "    operator_combinations = list(itertools.product(operators, repeat=len(num_array)-1))\n",
    "\n",
    "    for op_combo in operator_combinations:\n",
    "        s = f\"{num_array[0]}\"\n",
    "        for i in range(len(op_combo)):\n",
    "            s = f\"({s} {op_combo[i]} {num_array[i+1]})\"\n",
    "\n",
    "        if target == eval(s):\n",
    "            return True\n",
    "    \n",
    "    return False"
   ]
  },
  {
   "cell_type": "code",
   "execution_count": 10,
   "metadata": {},
   "outputs": [],
   "source": [
    "correct = []\n",
    "\n",
    "with open('input.txt') as f:\n",
    "    s = f.readlines()\n",
    "    for line in s:\n",
    "        target, array = line.split(\":\")\n",
    "        target = int(target)\n",
    "        array = [int(x) for x in array.split()]\n",
    "\n",
    "        check = check_combinations(target, array)\n",
    "        if check:\n",
    "            correct.append(target)"
   ]
  },
  {
   "cell_type": "code",
   "execution_count": 11,
   "metadata": {},
   "outputs": [
    {
     "data": {
      "text/plain": [
       "6231007345478"
      ]
     },
     "execution_count": 11,
     "metadata": {},
     "output_type": "execute_result"
    }
   ],
   "source": [
    "sum(correct)"
   ]
  },
  {
   "cell_type": "code",
   "execution_count": null,
   "metadata": {},
   "outputs": [],
   "source": []
  }
 ],
 "metadata": {
  "kernelspec": {
   "display_name": "thesis-env",
   "language": "python",
   "name": "python3"
  },
  "language_info": {
   "codemirror_mode": {
    "name": "ipython",
    "version": 3
   },
   "file_extension": ".py",
   "mimetype": "text/x-python",
   "name": "python",
   "nbconvert_exporter": "python",
   "pygments_lexer": "ipython3",
   "version": "3.12.3"
  }
 },
 "nbformat": 4,
 "nbformat_minor": 2
}
