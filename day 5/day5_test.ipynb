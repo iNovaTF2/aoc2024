{
 "cells": [
  {
   "cell_type": "code",
   "execution_count": 1,
   "metadata": {},
   "outputs": [],
   "source": [
    "from collections import defaultdict, deque"
   ]
  },
  {
   "cell_type": "code",
   "execution_count": 2,
   "metadata": {},
   "outputs": [],
   "source": [
    "rules = [\n",
    "    \"47|53\", \"97|13\", \"97|61\", \"97|47\", \"75|29\", \"61|13\",\n",
    "    \"75|53\", \"29|13\", \"97|29\", \"53|29\", \"61|53\", \"97|53\",\n",
    "    \"61|29\", \"47|13\", \"75|47\", \"97|75\", \"47|61\", \"75|61\",\n",
    "    \"47|29\", \"75|13\", \"53|13\"\n",
    "]\n",
    "\n",
    "graph = defaultdict(set)\n",
    "for rule in rules:\n",
    "    x, y = map(int, rule.split('|'))\n",
    "    graph[x].add(y)"
   ]
  },
  {
   "cell_type": "code",
   "execution_count": 3,
   "metadata": {},
   "outputs": [
    {
     "data": {
      "text/plain": [
       "defaultdict(set,\n",
       "            {47: {13, 29, 53, 61},\n",
       "             97: {13, 29, 47, 53, 61, 75},\n",
       "             75: {13, 29, 47, 53, 61},\n",
       "             61: {13, 29, 53},\n",
       "             29: {13},\n",
       "             53: {13, 29}})"
      ]
     },
     "execution_count": 3,
     "metadata": {},
     "output_type": "execute_result"
    }
   ],
   "source": [
    "graph"
   ]
  },
  {
   "cell_type": "code",
   "execution_count": 5,
   "metadata": {},
   "outputs": [],
   "source": []
  },
  {
   "cell_type": "code",
   "execution_count": 6,
   "metadata": {},
   "outputs": [
    {
     "data": {
      "text/plain": [
       "'47'"
      ]
     },
     "execution_count": 6,
     "metadata": {},
     "output_type": "execute_result"
    }
   ],
   "source": []
  },
  {
   "cell_type": "code",
   "execution_count": null,
   "metadata": {},
   "outputs": [],
   "source": []
  }
 ],
 "metadata": {
  "kernelspec": {
   "display_name": "thesis-env",
   "language": "python",
   "name": "python3"
  },
  "language_info": {
   "codemirror_mode": {
    "name": "ipython",
    "version": 3
   },
   "file_extension": ".py",
   "mimetype": "text/x-python",
   "name": "python",
   "nbconvert_exporter": "python",
   "pygments_lexer": "ipython3",
   "version": "3.12.3"
  }
 },
 "nbformat": 4,
 "nbformat_minor": 2
}
