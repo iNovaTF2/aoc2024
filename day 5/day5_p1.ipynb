{
 "cells": [
  {
   "cell_type": "code",
   "execution_count": 13,
   "metadata": {},
   "outputs": [],
   "source": [
    "import numpy as np"
   ]
  },
  {
   "cell_type": "code",
   "execution_count": 14,
   "metadata": {},
   "outputs": [],
   "source": [
    "with open('input.txt') as f:\n",
    "    lines = f.readlines()\n",
    "split_index = lines.index('\\n')"
   ]
  },
  {
   "cell_type": "code",
   "execution_count": 15,
   "metadata": {},
   "outputs": [],
   "source": [
    "def add_to_rules(rules, key1, key2):\n",
    "    if key1 in rules:\n",
    "        rules[key1]['before'].append(key2)\n",
    "    else:\n",
    "        rules[key1] = {'before': [key2], 'after': []}\n",
    "    \n",
    "    if key2 in rules:\n",
    "        rules[key2]['after'].append(key1)\n",
    "    else:\n",
    "        rules[key2] = {'before': [], 'after': [key1]}"
   ]
  },
  {
   "cell_type": "code",
   "execution_count": 16,
   "metadata": {},
   "outputs": [],
   "source": [
    "rules = {}\n",
    "for line in lines[:split_index-1]:\n",
    "    line_rule = line.split()[0].split(\"|\")\n",
    "    before = int(line_rule[0])\n",
    "    after = int(line_rule[1])\n",
    "    add_to_rules(rules, before, after)\n",
    "\n",
    "pages = [np.array(line.split()[0].split(\",\"), dtype=int) for line in lines[split_index+1:]]"
   ]
  },
  {
   "cell_type": "code",
   "execution_count": 23,
   "metadata": {},
   "outputs": [],
   "source": [
    "def find_good_order(page, rules):\n",
    "    for idx, val in enumerate(page):\n",
    "        for before_idx in np.arange(0, idx):\n",
    "            before_val = page[before_idx]\n",
    "            if val not in rules[before_val]['before']: #Check if the number before are actually before the value we're currently at\n",
    "                return False\n",
    "        for after_idx in np.arange(idx+1, len(page)):\n",
    "            after_val = page[after_idx]\n",
    "            if val not in rules[after_val]['after']: #Check if the numbers after are actually after the value we're currently at\n",
    "                return  False\n",
    "    return True"
   ]
  },
  {
   "cell_type": "code",
   "execution_count": 24,
   "metadata": {},
   "outputs": [
    {
     "name": "stdout",
     "output_type": "stream",
     "text": [
      "97\n",
      "0\n",
      "97\n",
      "5545\n"
     ]
    }
   ],
   "source": [
    "ordered = 0\n",
    "output = 0\n",
    "evens = 0\n",
    "odds = 0\n",
    "\n",
    "for page in pages:\n",
    "    if find_good_order(page, rules):\n",
    "        ordered += 1\n",
    "        if len(page) % 2 == 0:\n",
    "            evens += 1\n",
    "        else:\n",
    "            odds += 1\n",
    "        output += page[len(page)//2]\n",
    "    \n",
    "print(ordered)\n",
    "print(evens)\n",
    "print(odds)\n",
    "print(output)\n"
   ]
  },
  {
   "cell_type": "code",
   "execution_count": 8,
   "metadata": {},
   "outputs": [
    {
     "name": "stdout",
     "output_type": "stream",
     "text": [
      "11\n",
      "False\n"
     ]
    }
   ],
   "source": [
    "import random\n",
    "gen = random.randrange(0, len(pages))\n",
    "print(gen)\n",
    "page = pages[gen]\n",
    "test_order = find_good_order(page, rules)\n",
    "print(test_order)"
   ]
  },
  {
   "cell_type": "code",
   "execution_count": 161,
   "metadata": {},
   "outputs": [
    {
     "data": {
      "text/plain": [
       "array([18, 49, 56, 29, 63, 75, 68, 55, 91, 27, 15])"
      ]
     },
     "execution_count": 161,
     "metadata": {},
     "output_type": "execute_result"
    }
   ],
   "source": [
    "pages[58]"
   ]
  },
  {
   "cell_type": "code",
   "execution_count": 160,
   "metadata": {},
   "outputs": [
    {
     "data": {
      "text/plain": [
       "'a'"
      ]
     },
     "execution_count": 160,
     "metadata": {},
     "output_type": "execute_result"
    }
   ],
   "source": [
    "rules[58][93]"
   ]
  },
  {
   "cell_type": "code",
   "execution_count": 153,
   "metadata": {},
   "outputs": [
    {
     "name": "stdout",
     "output_type": "stream",
     "text": [
      "5\n",
      "48\n"
     ]
    }
   ],
   "source": [
    "shortest_len = 1000\n",
    "page_idx = 0\n",
    "\n",
    "for idx, page in enumerate(pages):\n",
    "    if len(page) < shortest_len:\n",
    "        shortest_len = len(page)\n",
    "        page_idx = idx\n",
    "    \n",
    "print(shortest_len)\n",
    "print(page_idx)"
   ]
  },
  {
   "cell_type": "code",
   "execution_count": null,
   "metadata": {},
   "outputs": [],
   "source": []
  }
 ],
 "metadata": {
  "kernelspec": {
   "display_name": "Python 3",
   "language": "python",
   "name": "python3"
  },
  "language_info": {
   "codemirror_mode": {
    "name": "ipython",
    "version": 3
   },
   "file_extension": ".py",
   "mimetype": "text/x-python",
   "name": "python",
   "nbconvert_exporter": "python",
   "pygments_lexer": "ipython3",
   "version": "3.12.4"
  }
 },
 "nbformat": 4,
 "nbformat_minor": 2
}
