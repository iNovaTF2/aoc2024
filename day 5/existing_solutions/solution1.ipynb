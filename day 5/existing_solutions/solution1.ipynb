{
 "cells": [
  {
   "cell_type": "code",
   "execution_count": 1,
   "metadata": {},
   "outputs": [
    {
     "name": "stdout",
     "output_type": "stream",
     "text": [
      "Solution 1: 5713\n"
     ]
    }
   ],
   "source": [
    "rules = {}\n",
    "updates = []\n",
    "with open(\"input.txt\") as f:\n",
    "    for line in f:\n",
    "        if \"|\" in line:\n",
    "            a, b = line.strip().split(\"|\")\n",
    "            if a not in rules:\n",
    "                rules[a] = []\n",
    "            rules[a].append(b)\n",
    "        else:\n",
    "            if line.strip():\n",
    "                updates.append(line.strip().split(\",\"))\n",
    "\n",
    "\n",
    "def correct_order(update: list, fix_wrong=False) -> int:\n",
    "    for i in range(len(update)):\n",
    "        for j in range(i + 1, len(update)):\n",
    "            rule = rules.get(update[j], [])\n",
    "            if update[i] in rule:\n",
    "                if fix_wrong:\n",
    "                    update[i], update[j] = update[j], update[i]\n",
    "                    return correct_order(update, True)\n",
    "                else:\n",
    "                    return 0\n",
    "\n",
    "    return int(update[len(update) // 2])\n",
    "\n",
    "\n",
    "result_1 = 0\n",
    "result_2 = 0\n",
    "for update in updates:\n",
    "    result_1 += correct_order(update)\n",
    "    result_2 += correct_order(update, True)\n",
    "\n",
    "print(\"Solution 1:\", result_1)"
   ]
  },
  {
   "cell_type": "code",
   "execution_count": null,
   "metadata": {},
   "outputs": [],
   "source": []
  }
 ],
 "metadata": {
  "kernelspec": {
   "display_name": "Python 3",
   "language": "python",
   "name": "python3"
  },
  "language_info": {
   "codemirror_mode": {
    "name": "ipython",
    "version": 3
   },
   "file_extension": ".py",
   "mimetype": "text/x-python",
   "name": "python",
   "nbconvert_exporter": "python",
   "pygments_lexer": "ipython3",
   "version": "3.12.4"
  }
 },
 "nbformat": 4,
 "nbformat_minor": 2
}
