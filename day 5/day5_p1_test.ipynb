{
 "cells": [
  {
   "cell_type": "code",
   "execution_count": 2,
   "metadata": {},
   "outputs": [],
   "source": [
    "import numpy as np"
   ]
  },
  {
   "cell_type": "code",
   "execution_count": 3,
   "metadata": {},
   "outputs": [],
   "source": [
    "input_str = '''\n",
    "47|53\n",
    "97|13\n",
    "97|61\n",
    "97|47\n",
    "75|29\n",
    "61|13\n",
    "75|53\n",
    "29|13\n",
    "97|29\n",
    "53|29\n",
    "61|53\n",
    "97|53\n",
    "61|29\n",
    "47|13\n",
    "75|47\n",
    "97|75\n",
    "47|61\n",
    "75|61\n",
    "47|29\n",
    "75|13\n",
    "53|13\n",
    "\n",
    "75,47,61,53,29\n",
    "97,61,53,29,13\n",
    "75,29,13\n",
    "75,97,47,61,53\n",
    "61,13,29\n",
    "97,13,75,29,47\n",
    "'''"
   ]
  },
  {
   "cell_type": "code",
   "execution_count": 4,
   "metadata": {},
   "outputs": [],
   "source": [
    "rule_input = input_str.splitlines()[1:22]\n",
    "sequence_input = input_str.splitlines()[23:]"
   ]
  },
  {
   "cell_type": "code",
   "execution_count": 5,
   "metadata": {},
   "outputs": [
    {
     "data": {
      "text/plain": [
       "'def add_to_rules(rules, key1, key2, indicator):\\n    if key1 in rules:\\n        rules[key1][key2] = indicator\\n    else:\\n        rules[key1] = {key2: indicator}'"
      ]
     },
     "execution_count": 5,
     "metadata": {},
     "output_type": "execute_result"
    }
   ],
   "source": [
    "'''def add_to_rules(rules, key1, key2, indicator):\n",
    "    if key1 in rules:\n",
    "        rules[key1][key2] = indicator\n",
    "    else:\n",
    "        rules[key1] = {key2: indicator}'''"
   ]
  },
  {
   "cell_type": "code",
   "execution_count": 6,
   "metadata": {},
   "outputs": [],
   "source": [
    "def add_to_rules(rules, key1, key2):\n",
    "    if key1 in rules:\n",
    "        rules[key1]['before'].append(key2)\n",
    "    else:\n",
    "        rules[key1] = {'before': [key2], 'after': []}\n",
    "    \n",
    "    if key2 in rules:\n",
    "        rules[key2]['after'].append(key1)\n",
    "    else:\n",
    "        rules[key2] = {'before': [], 'after': [key1]}\n",
    "\n",
    "rules = {}\n",
    "for line in rule_input:\n",
    "    line_rule = line.split()[0].split(\"|\")\n",
    "    before = int(line_rule[0])\n",
    "    after = int(line_rule[1])\n",
    "    add_to_rules(rules, before, after)\n",
    "\n",
    "pages = [np.array(line.split()[0].split(\",\"), dtype=int) for line in sequence_input]"
   ]
  },
  {
   "cell_type": "code",
   "execution_count": 7,
   "metadata": {},
   "outputs": [
    {
     "data": {
      "text/plain": [
       "{47: {'before': [53, 13, 61, 29], 'after': [97, 75]},\n",
       " 53: {'before': [29, 13], 'after': [47, 75, 61, 97]},\n",
       " 97: {'before': [13, 61, 47, 29, 53, 75], 'after': []},\n",
       " 13: {'before': [], 'after': [97, 61, 29, 47, 75, 53]},\n",
       " 61: {'before': [13, 53, 29], 'after': [97, 47, 75]},\n",
       " 75: {'before': [29, 53, 47, 61, 13], 'after': [97]},\n",
       " 29: {'before': [13], 'after': [75, 97, 53, 61, 47]}}"
      ]
     },
     "execution_count": 7,
     "metadata": {},
     "output_type": "execute_result"
    }
   ],
   "source": [
    "rules"
   ]
  },
  {
   "cell_type": "code",
   "execution_count": 8,
   "metadata": {},
   "outputs": [],
   "source": [
    "def find_good_order(page, rules):\n",
    "    for idx, val in enumerate(page):\n",
    "        for before_idx in np.arange(0, idx):\n",
    "            before_val = page[before_idx]\n",
    "            if val in rules[before_val]['after']: #Check if the number before are actually before the value we're currently at\n",
    "                return False\n",
    "        for after_idx in np.arange(idx+1, len(page)):\n",
    "            after_val = page[after_idx]\n",
    "            if val in rules[after_val]['before']: #Check if the numbers after are actually after the value we're currently at\n",
    "                return  False\n",
    "    return True"
   ]
  },
  {
   "cell_type": "code",
   "execution_count": 9,
   "metadata": {},
   "outputs": [
    {
     "name": "stdout",
     "output_type": "stream",
     "text": [
      "143\n"
     ]
    }
   ],
   "source": [
    "ordered = 0\n",
    "output = 0\n",
    "\n",
    "for page in pages:\n",
    "    if find_good_order(page, rules):\n",
    "        ordered += 1\n",
    "        output += page[len(page)//2]\n",
    "\n",
    "print(output)"
   ]
  },
  {
   "cell_type": "code",
   "execution_count": 45,
   "metadata": {},
   "outputs": [
    {
     "name": "stdout",
     "output_type": "stream",
     "text": [
      "[75 97 47 61 53]\n"
     ]
    },
    {
     "data": {
      "text/plain": [
       "2"
      ]
     },
     "execution_count": 45,
     "metadata": {},
     "output_type": "execute_result"
    }
   ],
   "source": [
    "print(pages[3])\n",
    "\n",
    "round(len(pages[3]) // 2)"
   ]
  },
  {
   "cell_type": "code",
   "execution_count": 51,
   "metadata": {},
   "outputs": [
    {
     "name": "stdout",
     "output_type": "stream",
     "text": [
      "[75 29 13]\n"
     ]
    },
    {
     "data": {
      "text/plain": [
       "29"
      ]
     },
     "execution_count": 51,
     "metadata": {},
     "output_type": "execute_result"
    }
   ],
   "source": [
    "page = pages[2]\n",
    "print(page)\n",
    "\n",
    "page[len(page)//2]"
   ]
  },
  {
   "cell_type": "code",
   "execution_count": 44,
   "metadata": {},
   "outputs": [
    {
     "data": {
      "text/plain": [
       "2"
      ]
     },
     "execution_count": 44,
     "metadata": {},
     "output_type": "execute_result"
    }
   ],
   "source": [
    "round(3/2)"
   ]
  },
  {
   "cell_type": "code",
   "execution_count": 37,
   "metadata": {},
   "outputs": [
    {
     "data": {
      "text/plain": [
       "61"
      ]
     },
     "execution_count": 37,
     "metadata": {},
     "output_type": "execute_result"
    }
   ],
   "source": [
    "pages[0][2]"
   ]
  },
  {
   "cell_type": "code",
   "execution_count": 27,
   "metadata": {},
   "outputs": [
    {
     "data": {
      "text/plain": [
       "'for idx, val in enumerate(page):\\n    print(f\"Current Val: {val}\")\\n    print(\"Before: \")\\n    for before_idx in np.arange(0, idx):\\n        before_val = page[before_idx]\\n        if val not in rules[before_val][\\'before\\']: #Check if the number before are actually before the value we\\'re currently at\\n            print(\"False\")\\n    print(\"After: \")\\n    for after_idx in np.arange(idx+1, len(page)):\\n        after_val = page[after_idx]\\n        if val not in rules[after_val][\\'after\\']: #Check if the numbers after are actually after the value we\\'re currently at\\n            print(\"False\")\\nprint(\"True\")'"
      ]
     },
     "execution_count": 27,
     "metadata": {},
     "output_type": "execute_result"
    }
   ],
   "source": [
    "'''for idx, val in enumerate(page):\n",
    "    print(f\"Current Val: {val}\")\n",
    "    print(\"Before: \")\n",
    "    for before_idx in np.arange(0, idx):\n",
    "        before_val = page[before_idx]\n",
    "        if val not in rules[before_val]['before']: #Check if the number before are actually before the value we're currently at\n",
    "            print(\"False\")\n",
    "    print(\"After: \")\n",
    "    for after_idx in np.arange(idx+1, len(page)):\n",
    "        after_val = page[after_idx]\n",
    "        if val not in rules[after_val]['after']: #Check if the numbers after are actually after the value we're currently at\n",
    "            print(\"False\")\n",
    "print(\"True\")'''"
   ]
  },
  {
   "cell_type": "code",
   "execution_count": null,
   "metadata": {},
   "outputs": [],
   "source": []
  }
 ],
 "metadata": {
  "kernelspec": {
   "display_name": "Python 3",
   "language": "python",
   "name": "python3"
  },
  "language_info": {
   "codemirror_mode": {
    "name": "ipython",
    "version": 3
   },
   "file_extension": ".py",
   "mimetype": "text/x-python",
   "name": "python",
   "nbconvert_exporter": "python",
   "pygments_lexer": "ipython3",
   "version": "3.12.4"
  }
 },
 "nbformat": 4,
 "nbformat_minor": 2
}
