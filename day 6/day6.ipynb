{
 "cells": [
  {
   "cell_type": "code",
   "execution_count": 18,
   "metadata": {},
   "outputs": [],
   "source": [
    "import numpy as np"
   ]
  },
  {
   "cell_type": "code",
   "execution_count": 19,
   "metadata": {},
   "outputs": [],
   "source": [
    "matrix = []\n",
    "row_idx = 0\n",
    "\n",
    "cur_row = 0\n",
    "cur_col = 0\n",
    "\n",
    "with open('input.txt') as f:\n",
    "    s = f.readlines()\n",
    "    for line in s:\n",
    "        row = []\n",
    "        for idx in range(len(line) - 1):\n",
    "            row.append(line[idx])\n",
    "            if line[idx] == \"^\":\n",
    "                cur_row = row_idx\n",
    "                cur_col = idx\n",
    "        matrix.append(row)\n",
    "        row_idx += 1"
   ]
  },
  {
   "cell_type": "code",
   "execution_count": 20,
   "metadata": {},
   "outputs": [],
   "source": [
    "a = np.array(matrix)"
   ]
  },
  {
   "cell_type": "code",
   "execution_count": 21,
   "metadata": {},
   "outputs": [
    {
     "name": "stdout",
     "output_type": "stream",
     "text": [
      "Pos 0: 43, 96, up\n",
      "Pos 1: 44, 96, up\n",
      "Pos 2: 45, 96, up\n",
      "Pos 3: 46, 96, up\n",
      "Pos 4: 47, 96, up\n",
      "Pos 5: 48, 96, up\n",
      "Pos 6: 49, 96, up\n",
      "Pos 7: 50, 96, up\n",
      "Pos 8: 51, 96, up\n",
      "Pos 9: 52, 96, up\n",
      "Pos 10: 53, 96, up\n",
      "Pos 11: 54, 96, up\n",
      "Pos 12: 55, 96, up\n",
      "Pos 13: 56, 96, up\n",
      "Next: #\n",
      "Pos 14: 57, 96, right\n",
      "Pos 15: 57, 97, right\n",
      "Pos 16: 57, 98, right\n",
      "Pos 17: 57, 99, right\n",
      "Pos 18: 57, 100, right\n",
      "Pos 19: 57, 101, right\n",
      "Pos 20: 57, 102, right\n",
      "Pos 21: 57, 103, right\n",
      "Pos 22: 57, 104, right\n",
      "Pos 23: 57, 105, right\n",
      "Pos 24: 57, 106, right\n",
      "Pos 25: 57, 107, right\n",
      "Pos 26: 57, 108, right\n",
      "Pos 27: 57, 109, right\n",
      "Pos 28: 57, 110, right\n",
      "Pos 29: 57, 111, right\n",
      "Pos 30: 57, 112, right\n",
      "Pos 31: 57, 113, right\n",
      "Pos 32: 57, 114, right\n",
      "Pos 33: 57, 115, right\n",
      "Pos 34: 57, 116, right\n",
      "Pos 35: 57, 117, right\n",
      "Pos 36: 57, 118, right\n",
      "Pos 37: 57, 119, right\n",
      "Pos 38: 57, 120, right\n",
      "Pos 39: 57, 121, right\n",
      "Pos 40: 57, 122, right\n",
      "Pos 41: 57, 123, right\n",
      "Pos 42: 57, 124, right\n",
      "Pos 43: 57, 125, right\n",
      "Pos 44: 57, 126, right\n",
      "Pos 45: 57, 127, right\n",
      "Pos 46: 57, 128, right\n"
     ]
    }
   ],
   "source": [
    "face_up = True\n",
    "face_left = False\n",
    "face_right = False\n",
    "face_down = False\n",
    "\n",
    "n = 0\n",
    "\n",
    "while (cur_row + 1 < a.shape[0]) and (cur_row - 1 >= 0) and (cur_col + 1 < a.shape[1]) and (cur_col - 1 >= 0):\n",
    "    if face_up:\n",
    "        next_row = cur_row + 1\n",
    "        if a[next_row][cur_col] == \"#\":\n",
    "            print(f\"Next: {a[next_row][cur_col]}\")\n",
    "            face_right = True\n",
    "            face_up = False\n",
    "        else:\n",
    "            #a[next_row][cur_col] = \"^\"\n",
    "            print(f\"Pos {n}: {cur_row}, {cur_col}, up\")\n",
    "            #print(f\"Next: {a[next_row][cur_col]}\")\n",
    "            cur_row = next_row\n",
    "            n += 1\n",
    "    \n",
    "    elif face_left:\n",
    "        next_col = cur_col - 1\n",
    "        if a[cur_row][next_col] == \"#\":\n",
    "            print(f\"Next: {a[cur_row][next_col]}\")\n",
    "            face_left = False\n",
    "            face_up = True\n",
    "        else:\n",
    "            #a[cur_row][next_col] = \"^\"\n",
    "            print(f\"Pos {n}: {cur_row}, {cur_col}, left\")\n",
    "            #print(f\"Next: {a[cur_row][next_col]}\")\n",
    "            cur_col = next_col\n",
    "            n += 1\n",
    "\n",
    "    elif face_right:\n",
    "        next_col = cur_col + 1\n",
    "        if a[cur_row][next_col] == \"#\":\n",
    "            print(f\"Next: {a[cur_row][next_col]}\")\n",
    "            face_down = True\n",
    "            face_right = False\n",
    "        else:\n",
    "            #a[cur_row][next_col] = \"^\"\n",
    "            print(f\"Pos {n}: {cur_row}, {cur_col}, right\")\n",
    "            #print(f\"Next: {a[cur_row][next_col]}\")\n",
    "            cur_col = next_col\n",
    "            n += 1\n",
    "    \n",
    "    elif face_down:\n",
    "        next_row = cur_row - 1\n",
    "        if a[next_row][cur_col] == \"#\":\n",
    "            print(f\"Next: {a[next_row][next_col]}\")\n",
    "            face_left = True\n",
    "            face_down = False\n",
    "        else:\n",
    "            #a[next_row][cur_col] = \"^\"\n",
    "            print(f\"Pos {n}: {cur_row}, {cur_col}, down\")\n",
    "            #print(f\"Next: {a[next_row][next_col]}\")\n",
    "            cur_row = next_row\n",
    "            n += 1\n"
   ]
  },
  {
   "cell_type": "code",
   "execution_count": 15,
   "metadata": {},
   "outputs": [
    {
     "data": {
      "text/plain": [
       "130"
      ]
     },
     "execution_count": 15,
     "metadata": {},
     "output_type": "execute_result"
    }
   ],
   "source": [
    "a.shape[0]"
   ]
  },
  {
   "cell_type": "code",
   "execution_count": null,
   "metadata": {},
   "outputs": [],
   "source": []
  }
 ],
 "metadata": {
  "kernelspec": {
   "display_name": "Python 3",
   "language": "python",
   "name": "python3"
  },
  "language_info": {
   "codemirror_mode": {
    "name": "ipython",
    "version": 3
   },
   "file_extension": ".py",
   "mimetype": "text/x-python",
   "name": "python",
   "nbconvert_exporter": "python",
   "pygments_lexer": "ipython3",
   "version": "3.12.4"
  }
 },
 "nbformat": 4,
 "nbformat_minor": 2
}
