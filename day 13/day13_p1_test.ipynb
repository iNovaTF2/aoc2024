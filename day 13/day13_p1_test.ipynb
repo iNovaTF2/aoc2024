{
 "cells": [
  {
   "cell_type": "code",
   "execution_count": 18,
   "metadata": {},
   "outputs": [],
   "source": [
    "import re\n",
    "import numpy as np\n",
    "from numpy.linalg import solve"
   ]
  },
  {
   "cell_type": "code",
   "execution_count": 2,
   "metadata": {},
   "outputs": [],
   "source": [
    "input_str = \"\"\"Button A: X+94, Y+34\n",
    "Button B: X+22, Y+67\n",
    "Prize: X=8400, Y=5400\n",
    "\n",
    "Button A: X+26, Y+66\n",
    "Button B: X+67, Y+21\n",
    "Prize: X=12748, Y=12176\n",
    "\n",
    "Button A: X+17, Y+86\n",
    "Button B: X+84, Y+37\n",
    "Prize: X=7870, Y=6450\n",
    "\n",
    "Button A: X+69, Y+23\n",
    "Button B: X+27, Y+71\n",
    "Prize: X=18641, Y=10279\n",
    "\n",
    "Button A: X+29, Y+86\n",
    "Button B: X+19, Y+16\n",
    "Prize: X=2240, Y=2810\"\"\""
   ]
  },
  {
   "cell_type": "code",
   "execution_count": 3,
   "metadata": {},
   "outputs": [],
   "source": [
    "lines = input_str.split(\"\\n\\n\")\n",
    "\n",
    "results = []\n",
    "\n",
    "for line in lines:\n",
    "    a, b, c = line.split(\"\\n\")\n",
    "    int_a = [int(x) for x in re.findall(r'\\d+', a)]\n",
    "    int_b = [int(x) for x in re.findall(r'\\d+', b)]\n",
    "    int_c = [int(x) for x in re.findall(r'\\d+', c)]\n",
    "\n",
    "    # Solve simultaneous equation\n",
    "    left_side = np.array([[int_a[0], int_b[0]], [int_a[1], int_b[1]]])\n",
    "    right_side = np.array([int_c[0], int_c[1]])\n",
    "    results.append(np.linalg.inv(left_side).dot(right_side))\n",
    "\n"
   ]
  },
  {
   "cell_type": "code",
   "execution_count": 4,
   "metadata": {},
   "outputs": [],
   "source": [
    "price = 0\n",
    "\n",
    "for result in results:\n",
    "    button_a = round(result[0], 3)\n",
    "    button_b = round(result[1], 3)\n",
    "    if button_a.is_integer() and button_b.is_integer():\n",
    "        price += int(result[0]) * 3 + int(result[1])\n"
   ]
  },
  {
   "cell_type": "code",
   "execution_count": 5,
   "metadata": {},
   "outputs": [
    {
     "data": {
      "text/plain": [
       "617"
      ]
     },
     "execution_count": 5,
     "metadata": {},
     "output_type": "execute_result"
    }
   ],
   "source": [
    "price"
   ]
  },
  {
   "cell_type": "code",
   "execution_count": 6,
   "metadata": {},
   "outputs": [
    {
     "data": {
      "text/plain": [
       "[array([80., 40.]),\n",
       " array([141.40454076, 135.39525284]),\n",
       " array([38., 86.]),\n",
       " array([244.50163628,  65.56989247]),\n",
       " array([15., 95.])]"
      ]
     },
     "execution_count": 6,
     "metadata": {},
     "output_type": "execute_result"
    }
   ],
   "source": [
    "results"
   ]
  },
  {
   "cell_type": "code",
   "execution_count": 8,
   "metadata": {},
   "outputs": [],
   "source": [
    "a = 15\n",
    "b = 95\n",
    "\n",
    "assert(29 * a + 19 * b == 2240)\n",
    "assert(86 * a + 16 * b == 2810)"
   ]
  },
  {
   "cell_type": "code",
   "execution_count": 23,
   "metadata": {},
   "outputs": [],
   "source": [
    "input_str = \"\"\"Button A: X+29, Y+86\n",
    "Button B: X+19, Y+16\n",
    "Prize: X=2240, Y=2810\"\"\"\n",
    "\n",
    "a, b, c = input_str.split(\"\\n\")\n",
    "\n",
    "int_a = [int(x) for x in re.findall(r'(\\d+)\\D*(\\d+)', a)[0]]\n",
    "int_b = [int(x) for x in re.findall(r'(\\d+)\\D*(\\d+)', b)[0]]\n",
    "int_c = [int(x) for x in re.findall(r'(\\d+)\\D*(\\d+)', c)[0]]\n"
   ]
  },
  {
   "cell_type": "code",
   "execution_count": 24,
   "metadata": {},
   "outputs": [],
   "source": [
    "AB = np.column_stack((int_a, int_b))"
   ]
  },
  {
   "cell_type": "code",
   "execution_count": 25,
   "metadata": {},
   "outputs": [
    {
     "data": {
      "text/plain": [
       "array([[29, 19],\n",
       "       [86, 16]])"
      ]
     },
     "execution_count": 25,
     "metadata": {},
     "output_type": "execute_result"
    }
   ],
   "source": [
    "AB"
   ]
  },
  {
   "cell_type": "code",
   "execution_count": 26,
   "metadata": {},
   "outputs": [],
   "source": [
    "solution = np.rint(solve(AB, int_c))"
   ]
  },
  {
   "cell_type": "code",
   "execution_count": 27,
   "metadata": {},
   "outputs": [
    {
     "data": {
      "text/plain": [
       "array([15., 95.])"
      ]
     },
     "execution_count": 27,
     "metadata": {},
     "output_type": "execute_result"
    }
   ],
   "source": [
    "solution"
   ]
  },
  {
   "cell_type": "code",
   "execution_count": null,
   "metadata": {},
   "outputs": [],
   "source": []
  }
 ],
 "metadata": {
  "kernelspec": {
   "display_name": "Python 3",
   "language": "python",
   "name": "python3"
  },
  "language_info": {
   "codemirror_mode": {
    "name": "ipython",
    "version": 3
   },
   "file_extension": ".py",
   "mimetype": "text/x-python",
   "name": "python",
   "nbconvert_exporter": "python",
   "pygments_lexer": "ipython3",
   "version": "3.12.4"
  }
 },
 "nbformat": 4,
 "nbformat_minor": 2
}
