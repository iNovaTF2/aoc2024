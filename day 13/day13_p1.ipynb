{
 "cells": [
  {
   "cell_type": "markdown",
   "metadata": {},
   "source": [
    "# P1"
   ]
  },
  {
   "cell_type": "code",
   "execution_count": 62,
   "metadata": {},
   "outputs": [],
   "source": [
    "import re\n",
    "import numpy as np\n",
    "from numpy.linalg import solve"
   ]
  },
  {
   "cell_type": "code",
   "execution_count": 63,
   "metadata": {},
   "outputs": [],
   "source": [
    "with open('input.txt', 'r') as file:\n",
    "    data = file.read()\n",
    "\n",
    "lines = data[:-1].split(\"\\n\\n\")"
   ]
  },
  {
   "cell_type": "code",
   "execution_count": 64,
   "metadata": {},
   "outputs": [
    {
     "data": {
      "text/plain": [
       "'Button A: X+27, Y+65\\nButton B: X+58, Y+17\\nPrize: X=2211, Y=4587\\n\\nButton A: X+87, Y+22\\nButton B: X+25, Y+77\\nPrize: X=7656, Y=8085\\n\\nButton A: X+99, Y+92\\nButton B: X+15, Y+64\\nPrize: X=9099, Y=8756\\n\\nButton A: X+50, Y+26\\nButton B: X+34, Y+59\\nPrize: X=11084, Y=7900\\n\\nButton A: X+24, Y+87\\nButton B: X+90, Y+57\\nPrize: X=6354, Y=5532\\n\\nButton A: X+14, Y+64\\nButton B: X+78, Y+26\\nPrize: X=16652, Y=3842\\n\\nButton A: X+69, Y+16\\nButton B: X+24, Y+72\\nPrize: X=16322, Y=12832\\n\\nButton A: X+20, Y+47\\nButton B: X+64, Y+31\\nPrize: X=12000, Y=9474\\n\\nButton A: X+50, Y+11\\nButton B: X+25, Y+48\\nPrize: X=5775, Y=6808\\n\\nButton A: X+99, Y+94\\nButton B: X+58, Y+12\\nPrize: X=12605, Y=9298\\n\\nButton A: X+63, Y+71\\nButton B: X+82, Y+17\\nPrize: X=3940, Y=2555\\n\\nButton A: X+27, Y+23\\nButton B: X+18, Y+86\\nPrize: X=1665, Y=4669\\n\\nButton A: X+85, Y+22\\nButton B: X+28, Y+96\\nPrize: X=2909, Y=3238\\n\\nButton A: X+41, Y+14\\nButton B: X+18, Y+68\\nPrize: X=4228, Y=12416\\n\\nButton A: X+12, Y+35\\nButton B: X+66, Y+12\\nPrize: X=12434, Y=2314\\n\\nButton A: X+37, Y+12\\nButton B: X+15, Y+28\\nPrize: X=2161, Y=1580\\n\\nButton A: X+11, Y+59\\nButton B: X+83, Y+22\\nPrize: X=18275, Y=2635\\n\\nButton A: X+29, Y+59\\nButton B: X+68, Y+37\\nPrize: X=8698, Y=8632\\n\\nButton A: X+96, Y+13\\nButton B: X+58, Y+61\\nPrize: X=9524, Y=3947\\n\\nButton A: X+38, Y+97\\nButton B: X+80, Y+28\\nPrize: X=3102, Y=6861\\n\\nButton A: X+54, Y+26\\nButton B: X+42, Y+89\\nPrize: X=6330, Y=7931\\n\\nButton A: X+12, Y+35\\nButton B: X+58, Y+14\\nPrize: X=10190, Y=10931\\n\\nButton A: X+76, Y+28\\nButton B: X+23, Y+70\\nPrize: X=19054, Y=7956\\n\\nButton A: X+23, Y+50\\nButton B: X+46, Y+14\\nPrize: X=353, Y=13712\\n\\nButton A: X+97, Y+22\\nButton B: X+49, Y+91\\nPrize: X=7826, Y=4571\\n\\nButton A: X+27, Y+57\\nButton B: X+42, Y+18\\nPrize: X=5241, Y=5835\\n\\nButton A: X+66, Y+20\\nButton B: X+21, Y+51\\nPrize: X=9767, Y=18953\\n\\nButton A: X+73, Y+39\\nButton B: X+17, Y+55\\nPrize: X=9040, Y=13328\\n\\nButton A: X+95, Y+34\\nButton B: X+15, Y+18\\nPrize: X=9150, Y=4500\\n\\nButton A: X+29, Y+53\\nButton B: X+71, Y+14\\nPrize: X=5737, Y=2266\\n\\nButton A: X+12, Y+44\\nButton B: X+63, Y+13\\nPrize: X=7307, Y=18161\\n\\nButton A: X+46, Y+15\\nButton B: X+19, Y+33\\nPrize: X=6646, Y=8327\\n\\nButton A: X+62, Y+26\\nButton B: X+26, Y+56\\nPrize: X=3774, Y=14802\\n\\nButton A: X+17, Y+63\\nButton B: X+49, Y+42\\nPrize: X=3801, Y=5292\\n\\nButton A: X+14, Y+64\\nButton B: X+83, Y+26\\nPrize: X=1869, Y=6070\\n\\nButton A: X+22, Y+69\\nButton B: X+42, Y+11\\nPrize: X=10104, Y=12772\\n\\nButton A: X+31, Y+47\\nButton B: X+43, Y+16\\nPrize: X=8826, Y=8112\\n\\nButton A: X+31, Y+58\\nButton B: X+41, Y+13\\nPrize: X=17723, Y=4139\\n\\nButton A: X+85, Y+14\\nButton B: X+18, Y+28\\nPrize: X=3152, Y=1120\\n\\nButton A: X+23, Y+45\\nButton B: X+61, Y+25\\nPrize: X=11409, Y=15365\\n\\nButton A: X+70, Y+33\\nButton B: X+11, Y+46\\nPrize: X=11210, Y=10845\\n\\nButton A: X+57, Y+38\\nButton B: X+11, Y+36\\nPrize: X=19514, Y=11248\\n\\nButton A: X+45, Y+14\\nButton B: X+45, Y+82\\nPrize: X=1925, Y=2062\\n\\nButton A: X+22, Y+49\\nButton B: X+61, Y+29\\nPrize: X=19547, Y=2416\\n\\nButton A: X+77, Y+44\\nButton B: X+25, Y+80\\nPrize: X=2360, Y=6540\\n\\nButton A: X+18, Y+87\\nButton B: X+75, Y+19\\nPrize: X=5721, Y=3263\\n\\nButton A: X+52, Y+28\\nButton B: X+12, Y+41\\nPrize: X=16460, Y=7575\\n\\nButton A: X+57, Y+20\\nButton B: X+12, Y+63\\nPrize: X=13184, Y=2170\\n\\nButton A: X+61, Y+17\\nButton B: X+49, Y+63\\nPrize: X=4704, Y=3038\\n\\nButton A: X+49, Y+11\\nButton B: X+73, Y+89\\nPrize: X=10054, Y=8066\\n\\nButton A: X+85, Y+86\\nButton B: X+17, Y+74\\nPrize: X=3961, Y=5314\\n\\nButton A: X+25, Y+48\\nButton B: X+69, Y+41\\nPrize: X=1850, Y=15717\\n\\nButton A: X+16, Y+68\\nButton B: X+76, Y+12\\nPrize: X=3608, Y=5084\\n\\nButton A: X+60, Y+80\\nButton B: X+28, Y+11\\nPrize: X=18676, Y=12367\\n\\nButton A: X+87, Y+18\\nButton B: X+38, Y+54\\nPrize: X=8670, Y=3870\\n\\nButton A: X+81, Y+12\\nButton B: X+71, Y+85\\nPrize: X=10212, Y=5088\\n\\nButton A: X+17, Y+27\\nButton B: X+45, Y+19\\nPrize: X=6991, Y=577\\n\\nButton A: X+52, Y+31\\nButton B: X+14, Y+90\\nPrize: X=5328, Y=9382\\n\\nButton A: X+40, Y+30\\nButton B: X+32, Y+76\\nPrize: X=4976, Y=5708\\n\\nButton A: X+29, Y+57\\nButton B: X+80, Y+35\\nPrize: X=2809, Y=3932\\n\\nButton A: X+38, Y+11\\nButton B: X+25, Y+68\\nPrize: X=18956, Y=1433\\n\\nButton A: X+26, Y+46\\nButton B: X+47, Y+27\\nPrize: X=13190, Y=9290\\n\\nButton A: X+97, Y+22\\nButton B: X+60, Y+86\\nPrize: X=7042, Y=4710\\n\\nButton A: X+55, Y+88\\nButton B: X+95, Y+43\\nPrize: X=9760, Y=8204\\n\\nButton A: X+16, Y+63\\nButton B: X+64, Y+21\\nPrize: X=18400, Y=18281\\n\\nButton A: X+40, Y+35\\nButton B: X+25, Y+77\\nPrize: X=2580, Y=4683\\n\\nButton A: X+71, Y+74\\nButton B: X+82, Y+12\\nPrize: X=8649, Y=5782\\n\\nButton A: X+77, Y+14\\nButton B: X+27, Y+94\\nPrize: X=4708, Y=6736\\n\\nButton A: X+66, Y+42\\nButton B: X+20, Y+92\\nPrize: X=7206, Y=11958\\n\\nButton A: X+24, Y+75\\nButton B: X+55, Y+14\\nPrize: X=3433, Y=5834\\n\\nButton A: X+34, Y+73\\nButton B: X+88, Y+23\\nPrize: X=6872, Y=5130\\n\\nButton A: X+23, Y+63\\nButton B: X+37, Y+13\\nPrize: X=4745, Y=10593\\n\\nButton A: X+40, Y+59\\nButton B: X+73, Y+33\\nPrize: X=10217, Y=8424\\n\\nButton A: X+14, Y+51\\nButton B: X+47, Y+16\\nPrize: X=12481, Y=8354\\n\\nButton A: X+48, Y+99\\nButton B: X+95, Y+20\\nPrize: X=4597, Y=7546\\n\\nButton A: X+13, Y+41\\nButton B: X+29, Y+12\\nPrize: X=263, Y=1388\\n\\nButton A: X+19, Y+50\\nButton B: X+41, Y+24\\nPrize: X=11548, Y=7664\\n\\nButton A: X+97, Y+43\\nButton B: X+27, Y+73\\nPrize: X=7998, Y=4522\\n\\nButton A: X+21, Y+43\\nButton B: X+62, Y+12\\nPrize: X=4390, Y=4276\\n\\nButton A: X+14, Y+44\\nButton B: X+77, Y+48\\nPrize: X=18113, Y=19392\\n\\nButton A: X+14, Y+43\\nButton B: X+33, Y+18\\nPrize: X=1207, Y=18546\\n\\nButton A: X+11, Y+39\\nButton B: X+50, Y+25\\nPrize: X=9397, Y=14203\\n\\nButton A: X+35, Y+60\\nButton B: X+92, Y+27\\nPrize: X=8135, Y=2835\\n\\nButton A: X+15, Y+47\\nButton B: X+33, Y+17\\nPrize: X=3491, Y=11363\\n\\nButton A: X+20, Y+78\\nButton B: X+68, Y+31\\nPrize: X=2560, Y=6471\\n\\nButton A: X+36, Y+16\\nButton B: X+46, Y+79\\nPrize: X=4098, Y=6213\\n\\nButton A: X+22, Y+73\\nButton B: X+93, Y+13\\nPrize: X=3155, Y=6035\\n\\nButton A: X+91, Y+80\\nButton B: X+14, Y+87\\nPrize: X=7973, Y=11192\\n\\nButton A: X+45, Y+17\\nButton B: X+25, Y+71\\nPrize: X=9440, Y=16002\\n\\nButton A: X+71, Y+21\\nButton B: X+22, Y+68\\nPrize: X=4637, Y=4017\\n\\nButton A: X+97, Y+29\\nButton B: X+48, Y+97\\nPrize: X=10461, Y=5607\\n\\nButton A: X+66, Y+25\\nButton B: X+11, Y+31\\nPrize: X=16809, Y=9722\\n\\nButton A: X+12, Y+30\\nButton B: X+57, Y+28\\nPrize: X=8939, Y=1420\\n\\nButton A: X+44, Y+12\\nButton B: X+47, Y+74\\nPrize: X=9821, Y=17594\\n\\nButton A: X+46, Y+31\\nButton B: X+16, Y+34\\nPrize: X=18700, Y=18424\\n\\nButton A: X+66, Y+86\\nButton B: X+81, Y+30\\nPrize: X=10791, Y=9906\\n\\nButton A: X+13, Y+65\\nButton B: X+77, Y+76\\nPrize: X=2910, Y=5898\\n\\nButton A: X+55, Y+20\\nButton B: X+29, Y+68\\nPrize: X=10013, Y=18356\\n\\nButton A: X+26, Y+13\\nButton B: X+44, Y+68\\nPrize: X=18626, Y=3889\\n\\nButton A: X+13, Y+74\\nButton B: X+97, Y+18\\nPrize: X=3977, Y=7682\\n\\nButton A: X+34, Y+11\\nButton B: X+13, Y+67\\nPrize: X=4243, Y=3537\\n\\nButton A: X+21, Y+67\\nButton B: X+74, Y+21\\nPrize: X=17831, Y=14155\\n\\nButton A: X+84, Y+13\\nButton B: X+48, Y+45\\nPrize: X=3924, Y=1246\\n\\nButton A: X+17, Y+42\\nButton B: X+49, Y+21\\nPrize: X=11445, Y=18029\\n\\nButton A: X+49, Y+74\\nButton B: X+88, Y+22\\nPrize: X=3289, Y=2860\\n\\nButton A: X+49, Y+13\\nButton B: X+30, Y+66\\nPrize: X=17781, Y=16557\\n\\nButton A: X+79, Y+86\\nButton B: X+99, Y+13\\nPrize: X=12460, Y=6930\\n\\nButton A: X+30, Y+67\\nButton B: X+32, Y+14\\nPrize: X=13872, Y=10152\\n\\nButton A: X+21, Y+47\\nButton B: X+73, Y+31\\nPrize: X=6722, Y=4454\\n\\nButton A: X+46, Y+65\\nButton B: X+63, Y+20\\nPrize: X=3443, Y=4520\\n\\nButton A: X+61, Y+11\\nButton B: X+18, Y+79\\nPrize: X=6665, Y=1404\\n\\nButton A: X+63, Y+11\\nButton B: X+19, Y+78\\nPrize: X=13512, Y=14869\\n\\nButton A: X+32, Y+67\\nButton B: X+34, Y+15\\nPrize: X=9010, Y=663\\n\\nButton A: X+24, Y+47\\nButton B: X+46, Y+22\\nPrize: X=17534, Y=15547\\n\\nButton A: X+19, Y+12\\nButton B: X+11, Y+32\\nPrize: X=354, Y=1516\\n\\nButton A: X+66, Y+26\\nButton B: X+14, Y+94\\nPrize: X=2244, Y=6724\\n\\nButton A: X+27, Y+99\\nButton B: X+91, Y+24\\nPrize: X=3358, Y=3642\\n\\nButton A: X+69, Y+53\\nButton B: X+12, Y+78\\nPrize: X=4548, Y=4250\\n\\nButton A: X+23, Y+26\\nButton B: X+82, Y+24\\nPrize: X=9646, Y=4172\\n\\nButton A: X+74, Y+41\\nButton B: X+15, Y+39\\nPrize: X=11784, Y=18519\\n\\nButton A: X+81, Y+14\\nButton B: X+68, Y+95\\nPrize: X=7383, Y=3274\\n\\nButton A: X+29, Y+58\\nButton B: X+41, Y+11\\nPrize: X=2365, Y=4058\\n\\nButton A: X+35, Y+22\\nButton B: X+30, Y+60\\nPrize: X=2025, Y=3618\\n\\nButton A: X+56, Y+14\\nButton B: X+13, Y+76\\nPrize: X=19427, Y=8192\\n\\nButton A: X+18, Y+38\\nButton B: X+31, Y+11\\nPrize: X=4677, Y=3017\\n\\nButton A: X+76, Y+25\\nButton B: X+30, Y+43\\nPrize: X=798, Y=892\\n\\nButton A: X+30, Y+53\\nButton B: X+35, Y+12\\nPrize: X=14085, Y=17167\\n\\nButton A: X+55, Y+65\\nButton B: X+74, Y+25\\nPrize: X=4732, Y=1970\\n\\nButton A: X+13, Y+87\\nButton B: X+91, Y+24\\nPrize: X=8138, Y=2982\\n\\nButton A: X+86, Y+63\\nButton B: X+32, Y+93\\nPrize: X=4654, Y=3618\\n\\nButton A: X+79, Y+34\\nButton B: X+19, Y+73\\nPrize: X=3384, Y=5994\\n\\nButton A: X+13, Y+60\\nButton B: X+56, Y+22\\nPrize: X=15079, Y=15910\\n\\nButton A: X+29, Y+91\\nButton B: X+58, Y+16\\nPrize: X=4031, Y=8167\\n\\nButton A: X+30, Y+58\\nButton B: X+46, Y+25\\nPrize: X=11614, Y=4607\\n\\nButton A: X+25, Y+40\\nButton B: X+36, Y+12\\nPrize: X=15112, Y=4864\\n\\nButton A: X+74, Y+70\\nButton B: X+11, Y+62\\nPrize: X=2977, Y=3590\\n\\nButton A: X+75, Y+73\\nButton B: X+15, Y+90\\nPrize: X=7170, Y=9844\\n\\nButton A: X+11, Y+45\\nButton B: X+34, Y+16\\nPrize: X=6530, Y=598\\n\\nButton A: X+84, Y+21\\nButton B: X+57, Y+87\\nPrize: X=9606, Y=6621\\n\\nButton A: X+97, Y+65\\nButton B: X+22, Y+54\\nPrize: X=2949, Y=2565\\n\\nButton A: X+34, Y+11\\nButton B: X+36, Y+51\\nPrize: X=5464, Y=4916\\n\\nButton A: X+53, Y+13\\nButton B: X+30, Y+65\\nPrize: X=12915, Y=7010\\n\\nButton A: X+55, Y+14\\nButton B: X+13, Y+62\\nPrize: X=13741, Y=18810\\n\\nButton A: X+73, Y+47\\nButton B: X+12, Y+32\\nPrize: X=7667, Y=6381\\n\\nButton A: X+79, Y+38\\nButton B: X+15, Y+47\\nPrize: X=1663, Y=17231\\n\\nButton A: X+16, Y+45\\nButton B: X+82, Y+53\\nPrize: X=9494, Y=11698\\n\\nButton A: X+26, Y+53\\nButton B: X+21, Y+11\\nPrize: X=2743, Y=2697\\n\\nButton A: X+76, Y+82\\nButton B: X+62, Y+16\\nPrize: X=6114, Y=4510\\n\\nButton A: X+52, Y+56\\nButton B: X+17, Y+84\\nPrize: X=939, Y=3836\\n\\nButton A: X+65, Y+15\\nButton B: X+14, Y+36\\nPrize: X=6941, Y=10169\\n\\nButton A: X+44, Y+84\\nButton B: X+80, Y+12\\nPrize: X=3120, Y=2016\\n\\nButton A: X+19, Y+48\\nButton B: X+62, Y+21\\nPrize: X=18113, Y=18134\\n\\nButton A: X+43, Y+17\\nButton B: X+11, Y+35\\nPrize: X=6850, Y=19080\\n\\nButton A: X+42, Y+13\\nButton B: X+23, Y+60\\nPrize: X=7937, Y=11818\\n\\nButton A: X+11, Y+29\\nButton B: X+78, Y+62\\nPrize: X=2096, Y=5944\\n\\nButton A: X+99, Y+78\\nButton B: X+19, Y+58\\nPrize: X=986, Y=992\\n\\nButton A: X+63, Y+89\\nButton B: X+50, Y+14\\nPrize: X=8427, Y=7997\\n\\nButton A: X+75, Y+21\\nButton B: X+19, Y+65\\nPrize: X=7070, Y=1658\\n\\nButton A: X+77, Y+16\\nButton B: X+80, Y+77\\nPrize: X=10226, Y=6472\\n\\nButton A: X+42, Y+26\\nButton B: X+14, Y+37\\nPrize: X=14396, Y=10963\\n\\nButton A: X+61, Y+38\\nButton B: X+20, Y+44\\nPrize: X=18781, Y=4678\\n\\nButton A: X+41, Y+23\\nButton B: X+19, Y+36\\nPrize: X=16818, Y=7290\\n\\nButton A: X+14, Y+75\\nButton B: X+21, Y+13\\nPrize: X=1673, Y=7072\\n\\nButton A: X+12, Y+28\\nButton B: X+76, Y+19\\nPrize: X=8220, Y=4455\\n\\nButton A: X+56, Y+13\\nButton B: X+24, Y+76\\nPrize: X=5416, Y=8768\\n\\nButton A: X+13, Y+54\\nButton B: X+33, Y+13\\nPrize: X=12445, Y=11874\\n\\nButton A: X+26, Y+82\\nButton B: X+65, Y+57\\nPrize: X=4641, Y=9161\\n\\nButton A: X+25, Y+58\\nButton B: X+65, Y+23\\nPrize: X=9410, Y=11930\\n\\nButton A: X+77, Y+93\\nButton B: X+71, Y+20\\nPrize: X=2645, Y=959\\n\\nButton A: X+29, Y+26\\nButton B: X+89, Y+17\\nPrize: X=3223, Y=943\\n\\nButton A: X+58, Y+18\\nButton B: X+27, Y+65\\nPrize: X=3127, Y=1933\\n\\nButton A: X+67, Y+48\\nButton B: X+12, Y+36\\nPrize: X=13551, Y=776\\n\\nButton A: X+26, Y+45\\nButton B: X+56, Y+26\\nPrize: X=15224, Y=2714\\n\\nButton A: X+42, Y+12\\nButton B: X+14, Y+35\\nPrize: X=9132, Y=6708\\n\\nButton A: X+68, Y+27\\nButton B: X+23, Y+67\\nPrize: X=3977, Y=7308\\n\\nButton A: X+18, Y+47\\nButton B: X+52, Y+21\\nPrize: X=9882, Y=13544\\n\\nButton A: X+16, Y+70\\nButton B: X+58, Y+13\\nPrize: X=13098, Y=6951\\n\\nButton A: X+49, Y+24\\nButton B: X+18, Y+45\\nPrize: X=19509, Y=13154\\n\\nButton A: X+53, Y+59\\nButton B: X+86, Y+18\\nPrize: X=7733, Y=5499\\n\\nButton A: X+81, Y+17\\nButton B: X+27, Y+90\\nPrize: X=1593, Y=4045\\n\\nButton A: X+69, Y+22\\nButton B: X+22, Y+64\\nPrize: X=2925, Y=1962\\n\\nButton A: X+25, Y+57\\nButton B: X+92, Y+49\\nPrize: X=3909, Y=4572\\n\\nButton A: X+52, Y+98\\nButton B: X+78, Y+47\\nPrize: X=8554, Y=6821\\n\\nButton A: X+11, Y+83\\nButton B: X+63, Y+30\\nPrize: X=3466, Y=3439\\n\\nButton A: X+16, Y+64\\nButton B: X+58, Y+19\\nPrize: X=18736, Y=4768\\n\\nButton A: X+93, Y+11\\nButton B: X+69, Y+58\\nPrize: X=14382, Y=5439\\n\\nButton A: X+57, Y+14\\nButton B: X+15, Y+37\\nPrize: X=269, Y=12944\\n\\nButton A: X+21, Y+29\\nButton B: X+88, Y+34\\nPrize: X=8709, Y=3887\\n\\nButton A: X+15, Y+41\\nButton B: X+42, Y+22\\nPrize: X=5837, Y=7547\\n\\nButton A: X+36, Y+70\\nButton B: X+60, Y+24\\nPrize: X=13640, Y=7416\\n\\nButton A: X+38, Y+90\\nButton B: X+75, Y+16\\nPrize: X=10317, Y=9080\\n\\nButton A: X+36, Y+53\\nButton B: X+24, Y+11\\nPrize: X=8924, Y=5732\\n\\nButton A: X+82, Y+11\\nButton B: X+15, Y+82\\nPrize: X=10504, Y=6178\\n\\nButton A: X+30, Y+73\\nButton B: X+43, Y+14\\nPrize: X=7059, Y=14604\\n\\nButton A: X+16, Y+92\\nButton B: X+73, Y+58\\nPrize: X=6760, Y=12824\\n\\nButton A: X+86, Y+31\\nButton B: X+52, Y+98\\nPrize: X=2618, Y=1657\\n\\nButton A: X+49, Y+13\\nButton B: X+18, Y+45\\nPrize: X=14508, Y=1215\\n\\nButton A: X+94, Y+34\\nButton B: X+37, Y+83\\nPrize: X=10087, Y=9009\\n\\nButton A: X+24, Y+58\\nButton B: X+69, Y+38\\nPrize: X=9839, Y=18698\\n\\nButton A: X+51, Y+18\\nButton B: X+16, Y+29\\nPrize: X=19247, Y=17528\\n\\nButton A: X+71, Y+42\\nButton B: X+26, Y+51\\nPrize: X=7232, Y=7377\\n\\nButton A: X+78, Y+69\\nButton B: X+84, Y+13\\nPrize: X=9156, Y=2214\\n\\nButton A: X+28, Y+11\\nButton B: X+18, Y+44\\nPrize: X=10000, Y=19768\\n\\nButton A: X+63, Y+17\\nButton B: X+39, Y+64\\nPrize: X=5511, Y=2824\\n\\nButton A: X+86, Y+30\\nButton B: X+34, Y+79\\nPrize: X=4208, Y=5362\\n\\nButton A: X+14, Y+87\\nButton B: X+78, Y+73\\nPrize: X=2820, Y=6408\\n\\nButton A: X+53, Y+26\\nButton B: X+12, Y+25\\nPrize: X=18982, Y=4199\\n\\nButton A: X+50, Y+20\\nButton B: X+32, Y+66\\nPrize: X=16348, Y=17274\\n\\nButton A: X+16, Y+53\\nButton B: X+51, Y+17\\nPrize: X=5062, Y=12215\\n\\nButton A: X+77, Y+45\\nButton B: X+12, Y+48\\nPrize: X=3828, Y=3908\\n\\nButton A: X+78, Y+19\\nButton B: X+17, Y+76\\nPrize: X=15074, Y=1032\\n\\nButton A: X+24, Y+61\\nButton B: X+56, Y+18\\nPrize: X=1528, Y=490\\n\\nButton A: X+46, Y+47\\nButton B: X+14, Y+84\\nPrize: X=3018, Y=9635\\n\\nButton A: X+84, Y+44\\nButton B: X+34, Y+77\\nPrize: X=7864, Y=6842\\n\\nButton A: X+56, Y+41\\nButton B: X+16, Y+67\\nPrize: X=5240, Y=8204\\n\\nButton A: X+11, Y+42\\nButton B: X+49, Y+12\\nPrize: X=19454, Y=782\\n\\nButton A: X+20, Y+60\\nButton B: X+35, Y+16\\nPrize: X=9760, Y=18208\\n\\nButton A: X+68, Y+15\\nButton B: X+61, Y+60\\nPrize: X=7245, Y=4065\\n\\nButton A: X+89, Y+22\\nButton B: X+15, Y+88\\nPrize: X=7530, Y=6666\\n\\nButton A: X+42, Y+17\\nButton B: X+30, Y+47\\nPrize: X=5618, Y=13205\\n\\nButton A: X+22, Y+57\\nButton B: X+78, Y+13\\nPrize: X=6576, Y=4936\\n\\nButton A: X+11, Y+48\\nButton B: X+74, Y+59\\nPrize: X=5060, Y=7565\\n\\nButton A: X+97, Y+11\\nButton B: X+58, Y+66\\nPrize: X=9112, Y=2816\\n\\nButton A: X+80, Y+25\\nButton B: X+15, Y+61\\nPrize: X=3950, Y=18621\\n\\nButton A: X+49, Y+33\\nButton B: X+19, Y+39\\nPrize: X=14357, Y=1721\\n\\nButton A: X+20, Y+51\\nButton B: X+58, Y+35\\nPrize: X=13354, Y=9640\\n\\nButton A: X+39, Y+37\\nButton B: X+24, Y+98\\nPrize: X=2613, Y=3457\\n\\nButton A: X+36, Y+50\\nButton B: X+89, Y+35\\nPrize: X=7991, Y=6225\\n\\nButton A: X+32, Y+97\\nButton B: X+94, Y+81\\nPrize: X=7664, Y=8548\\n\\nButton A: X+49, Y+11\\nButton B: X+23, Y+82\\nPrize: X=262, Y=9138\\n\\nButton A: X+47, Y+15\\nButton B: X+22, Y+43\\nPrize: X=8222, Y=10349\\n\\nButton A: X+96, Y+89\\nButton B: X+12, Y+54\\nPrize: X=7572, Y=7663\\n\\nButton A: X+62, Y+30\\nButton B: X+32, Y+62\\nPrize: X=1100, Y=10678\\n\\nButton A: X+29, Y+70\\nButton B: X+97, Y+14\\nPrize: X=8685, Y=5334\\n\\nButton A: X+64, Y+36\\nButton B: X+12, Y+30\\nPrize: X=7672, Y=17876\\n\\nButton A: X+64, Y+95\\nButton B: X+56, Y+16\\nPrize: X=9656, Y=7822\\n\\nButton A: X+41, Y+66\\nButton B: X+47, Y+18\\nPrize: X=19713, Y=3014\\n\\nButton A: X+77, Y+20\\nButton B: X+12, Y+45\\nPrize: X=10253, Y=10055\\n\\nButton A: X+20, Y+52\\nButton B: X+71, Y+28\\nPrize: X=3183, Y=17812\\n\\nButton A: X+38, Y+12\\nButton B: X+11, Y+16\\nPrize: X=14518, Y=17124\\n\\nButton A: X+71, Y+20\\nButton B: X+76, Y+95\\nPrize: X=9726, Y=8995\\n\\nButton A: X+82, Y+20\\nButton B: X+31, Y+96\\nPrize: X=7453, Y=2260\\n\\nButton A: X+85, Y+59\\nButton B: X+29, Y+83\\nPrize: X=7467, Y=6629\\n\\nButton A: X+17, Y+30\\nButton B: X+35, Y+20\\nPrize: X=11302, Y=14110\\n\\nButton A: X+39, Y+81\\nButton B: X+54, Y+20\\nPrize: X=3093, Y=2277\\n\\nButton A: X+76, Y+14\\nButton B: X+45, Y+71\\nPrize: X=3328, Y=3874\\n\\nButton A: X+19, Y+91\\nButton B: X+68, Y+60\\nPrize: X=4259, Y=4723\\n\\nButton A: X+15, Y+53\\nButton B: X+78, Y+33\\nPrize: X=6851, Y=8685\\n\\nButton A: X+20, Y+59\\nButton B: X+36, Y+12\\nPrize: X=1208, Y=18047\\n\\nButton A: X+52, Y+17\\nButton B: X+31, Y+70\\nPrize: X=758, Y=17044\\n\\nButton A: X+13, Y+26\\nButton B: X+62, Y+26\\nPrize: X=7073, Y=380\\n\\nButton A: X+33, Y+23\\nButton B: X+11, Y+28\\nPrize: X=13454, Y=7460\\n\\nButton A: X+51, Y+40\\nButton B: X+20, Y+57\\nPrize: X=4943, Y=6397\\n\\nButton A: X+90, Y+21\\nButton B: X+18, Y+68\\nPrize: X=4680, Y=1730\\n\\nButton A: X+55, Y+50\\nButton B: X+19, Y+84\\nPrize: X=2015, Y=7170\\n\\nButton A: X+19, Y+55\\nButton B: X+69, Y+17\\nPrize: X=19115, Y=15807\\n\\nButton A: X+42, Y+81\\nButton B: X+49, Y+18\\nPrize: X=7336, Y=6957\\n\\nButton A: X+37, Y+77\\nButton B: X+82, Y+25\\nPrize: X=3724, Y=7313\\n\\nButton A: X+41, Y+18\\nButton B: X+42, Y+67\\nPrize: X=18780, Y=12045\\n\\nButton A: X+13, Y+36\\nButton B: X+70, Y+42\\nPrize: X=15942, Y=5696\\n\\nButton A: X+45, Y+67\\nButton B: X+33, Y+12\\nPrize: X=14717, Y=15673\\n\\nButton A: X+31, Y+57\\nButton B: X+68, Y+29\\nPrize: X=8718, Y=7483\\n\\nButton A: X+16, Y+72\\nButton B: X+50, Y+36\\nPrize: X=4454, Y=5868\\n\\nButton A: X+97, Y+19\\nButton B: X+58, Y+55\\nPrize: X=7379, Y=4151\\n\\nButton A: X+53, Y+38\\nButton B: X+19, Y+96\\nPrize: X=4772, Y=10094\\n\\nButton A: X+54, Y+16\\nButton B: X+12, Y+27\\nPrize: X=13058, Y=7571\\n\\nButton A: X+18, Y+59\\nButton B: X+73, Y+50\\nPrize: X=5266, Y=5147\\n\\nButton A: X+73, Y+19\\nButton B: X+18, Y+62\\nPrize: X=1721, Y=3371\\n\\nButton A: X+13, Y+62\\nButton B: X+75, Y+12\\nPrize: X=16285, Y=10524\\n\\nButton A: X+44, Y+14\\nButton B: X+25, Y+55\\nPrize: X=10918, Y=12418\\n\\nButton A: X+54, Y+38\\nButton B: X+17, Y+47\\nPrize: X=2549, Y=2039\\n\\nButton A: X+47, Y+16\\nButton B: X+70, Y+90\\nPrize: X=4111, Y=1598\\n\\nButton A: X+40, Y+38\\nButton B: X+93, Y+22\\nPrize: X=10108, Y=4560\\n\\nButton A: X+70, Y+15\\nButton B: X+16, Y+48\\nPrize: X=730, Y=825\\n\\nButton A: X+43, Y+80\\nButton B: X+53, Y+31\\nPrize: X=3837, Y=4164\\n\\nButton A: X+49, Y+68\\nButton B: X+36, Y+12\\nPrize: X=1627, Y=11004\\n\\nButton A: X+70, Y+26\\nButton B: X+15, Y+63\\nPrize: X=5645, Y=1901\\n\\nButton A: X+76, Y+58\\nButton B: X+27, Y+99\\nPrize: X=6694, Y=7774\\n\\nButton A: X+20, Y+72\\nButton B: X+66, Y+21\\nPrize: X=17662, Y=10379\\n\\nButton A: X+41, Y+69\\nButton B: X+50, Y+24\\nPrize: X=17575, Y=4523\\n\\nButton A: X+70, Y+21\\nButton B: X+56, Y+63\\nPrize: X=9030, Y=6405\\n\\nButton A: X+96, Y+82\\nButton B: X+26, Y+79\\nPrize: X=6758, Y=7533\\n\\nButton A: X+72, Y+49\\nButton B: X+16, Y+35\\nPrize: X=17192, Y=14963\\n\\nButton A: X+18, Y+60\\nButton B: X+75, Y+18\\nPrize: X=6144, Y=6096\\n\\nButton A: X+77, Y+40\\nButton B: X+12, Y+45\\nPrize: X=7417, Y=13410\\n\\nButton A: X+31, Y+13\\nButton B: X+26, Y+59\\nPrize: X=19602, Y=4158\\n\\nButton A: X+72, Y+11\\nButton B: X+92, Y+90\\nPrize: X=7488, Y=3878\\n\\nButton A: X+51, Y+96\\nButton B: X+66, Y+25\\nPrize: X=3675, Y=2849\\n\\nButton A: X+29, Y+70\\nButton B: X+47, Y+14\\nPrize: X=12636, Y=15796\\n\\nButton A: X+13, Y+34\\nButton B: X+91, Y+11\\nPrize: X=8164, Y=1376\\n\\nButton A: X+35, Y+67\\nButton B: X+56, Y+17\\nPrize: X=10805, Y=4589\\n\\nButton A: X+39, Y+16\\nButton B: X+19, Y+28\\nPrize: X=6368, Y=16416\\n\\nButton A: X+24, Y+64\\nButton B: X+79, Y+46\\nPrize: X=5664, Y=7200\\n\\nButton A: X+62, Y+25\\nButton B: X+16, Y+38\\nPrize: X=4952, Y=2470\\n\\nButton A: X+51, Y+31\\nButton B: X+37, Y+71\\nPrize: X=1394, Y=1672\\n\\nButton A: X+13, Y+63\\nButton B: X+37, Y+12\\nPrize: X=1966, Y=3716\\n\\nButton A: X+17, Y+77\\nButton B: X+62, Y+13\\nPrize: X=12283, Y=15031\\n\\nButton A: X+17, Y+50\\nButton B: X+39, Y+21\\nPrize: X=4196, Y=15923\\n\\nButton A: X+58, Y+30\\nButton B: X+33, Y+64\\nPrize: X=5343, Y=3186\\n\\nButton A: X+46, Y+21\\nButton B: X+49, Y+73\\nPrize: X=13427, Y=10951\\n\\nButton A: X+21, Y+58\\nButton B: X+66, Y+47\\nPrize: X=7536, Y=9585\\n\\nButton A: X+88, Y+51\\nButton B: X+26, Y+72\\nPrize: X=7596, Y=5427\\n\\nButton A: X+55, Y+48\\nButton B: X+94, Y+15\\nPrize: X=10975, Y=5556\\n\\nButton A: X+12, Y+26\\nButton B: X+60, Y+39\\nPrize: X=924, Y=1092\\n\\nButton A: X+49, Y+23\\nButton B: X+35, Y+60\\nPrize: X=15285, Y=7315\\n\\nButton A: X+11, Y+82\\nButton B: X+78, Y+15\\nPrize: X=4905, Y=5989\\n\\nButton A: X+19, Y+61\\nButton B: X+74, Y+56\\nPrize: X=2004, Y=5526\\n\\nButton A: X+11, Y+12\\nButton B: X+94, Y+23\\nPrize: X=1709, Y=1228\\n\\nButton A: X+30, Y+63\\nButton B: X+99, Y+56\\nPrize: X=6276, Y=6496\\n\\nButton A: X+13, Y+51\\nButton B: X+60, Y+29\\nPrize: X=17520, Y=789\\n\\nButton A: X+72, Y+27\\nButton B: X+16, Y+42\\nPrize: X=1552, Y=2778\\n\\nButton A: X+68, Y+87\\nButton B: X+61, Y+14\\nPrize: X=5879, Y=6561\\n\\nButton A: X+34, Y+94\\nButton B: X+67, Y+33\\nPrize: X=8854, Y=11082\\n\\nButton A: X+14, Y+73\\nButton B: X+89, Y+64\\nPrize: X=4490, Y=5809\\n\\nButton A: X+74, Y+14\\nButton B: X+26, Y+88\\nPrize: X=4150, Y=2696\\n\\nButton A: X+53, Y+19\\nButton B: X+18, Y+68\\nPrize: X=15211, Y=12095\\n\\nButton A: X+13, Y+83\\nButton B: X+57, Y+56\\nPrize: X=895, Y=2635\\n\\nButton A: X+72, Y+76\\nButton B: X+93, Y+24\\nPrize: X=10377, Y=5836\\n\\nButton A: X+29, Y+86\\nButton B: X+19, Y+16\\nPrize: X=2240, Y=2810\\n\\nButton A: X+24, Y+14\\nButton B: X+11, Y+47\\nPrize: X=1676, Y=4062'"
      ]
     },
     "execution_count": 64,
     "metadata": {},
     "output_type": "execute_result"
    }
   ],
   "source": [
    "data[:-1]"
   ]
  },
  {
   "cell_type": "code",
   "execution_count": 66,
   "metadata": {},
   "outputs": [],
   "source": [
    "results = []\n",
    "tokens = 0\n",
    "\n",
    "for line in lines:\n",
    "    a, b, c = line.split(\"\\n\")\n",
    "    int_a = [int(x) for x in re.findall(r'(\\d+)\\D*(\\d+)', a)[0]]\n",
    "    int_b = [int(x) for x in re.findall(r'(\\d+)\\D*(\\d+)', b)[0]]\n",
    "    int_c = [int(x) for x in re.findall(r'(\\d+)\\D*(\\d+)', c)[0]]\n",
    "\n",
    "    # Solve simultaneous equation\n",
    "    AB = np.column_stack((int_a, int_b))\n",
    "    solution = np.rint(solve(AB, int_c))\n",
    "\n",
    "    if np.all(AB @ solution == int_c):\n",
    "        tokens += solution[0] * 3 + solution[1]\n"
   ]
  },
  {
   "cell_type": "markdown",
   "metadata": {},
   "source": [
    "# P2"
   ]
  },
  {
   "cell_type": "code",
   "execution_count": 71,
   "metadata": {},
   "outputs": [],
   "source": [
    "results = []\n",
    "tokens = 0\n",
    "\n",
    "for line in lines:\n",
    "    a, b, c = line.split(\"\\n\")\n",
    "    int_a = [int(x) for x in re.findall(r'(\\d+)\\D*(\\d+)', a)[0]]\n",
    "    int_b = [int(x) for x in re.findall(r'(\\d+)\\D*(\\d+)', b)[0]]\n",
    "    int_c = [int(x) + 10000000000000 for x in re.findall(r'(\\d+)\\D*(\\d+)', c)[0]]\n",
    "\n",
    "    # Solve simultaneous equation\n",
    "    AB = np.column_stack((int_a, int_b))\n",
    "    solution = np.rint(solve(AB, int_c))\n",
    "\n",
    "    if np.all(AB @ solution == int_c):\n",
    "        tokens += solution[0] * 3 + solution[1]\n"
   ]
  },
  {
   "cell_type": "code",
   "execution_count": 72,
   "metadata": {},
   "outputs": [
    {
     "data": {
      "text/plain": [
       "87582154060429.0"
      ]
     },
     "execution_count": 72,
     "metadata": {},
     "output_type": "execute_result"
    }
   ],
   "source": [
    "tokens"
   ]
  },
  {
   "cell_type": "code",
   "execution_count": null,
   "metadata": {},
   "outputs": [],
   "source": []
  }
 ],
 "metadata": {
  "kernelspec": {
   "display_name": "Python 3",
   "language": "python",
   "name": "python3"
  },
  "language_info": {
   "codemirror_mode": {
    "name": "ipython",
    "version": 3
   },
   "file_extension": ".py",
   "mimetype": "text/x-python",
   "name": "python",
   "nbconvert_exporter": "python",
   "pygments_lexer": "ipython3",
   "version": "3.12.4"
  }
 },
 "nbformat": 4,
 "nbformat_minor": 2
}
