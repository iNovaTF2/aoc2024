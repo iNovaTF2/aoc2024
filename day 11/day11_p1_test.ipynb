{
 "cells": [
  {
   "cell_type": "code",
   "execution_count": 17,
   "metadata": {},
   "outputs": [],
   "source": [
    "stones = [125, 17]"
   ]
  },
  {
   "cell_type": "code",
   "execution_count": 20,
   "metadata": {},
   "outputs": [
    {
     "name": "stdout",
     "output_type": "stream",
     "text": [
      "[2097446912, 14168, 4048, 2, 0, 2, 4, 40, 48, 2024, 40, 48, 80, 96, 2, 8, 6, 7, 6, 0, 3, 2]\n"
     ]
    }
   ],
   "source": [
    "stones = [125, 17]\n",
    "\n",
    "for _ in range(6):\n",
    "    output = []\n",
    "    for stone in stones:\n",
    "        if stone == 0:\n",
    "            output.append(1)\n",
    "        elif len(str(stone)) % 2 == 0:\n",
    "            stone_str = str(stone)\n",
    "            len_stone_str_split = int(len(stone_str) / 2)\n",
    "            output.append(int(stone_str[:len_stone_str_split]))\n",
    "            output.append(int(stone_str[len_stone_str_split:]))\n",
    "        else:\n",
    "            output.append(stone * 2024)\n",
    "    \n",
    "    stones = output\n",
    "\n",
    "print(stones)"
   ]
  },
  {
   "cell_type": "code",
   "execution_count": null,
   "metadata": {},
   "outputs": [],
   "source": []
  }
 ],
 "metadata": {
  "kernelspec": {
   "display_name": "Python 3",
   "language": "python",
   "name": "python3"
  },
  "language_info": {
   "codemirror_mode": {
    "name": "ipython",
    "version": 3
   },
   "file_extension": ".py",
   "mimetype": "text/x-python",
   "name": "python",
   "nbconvert_exporter": "python",
   "pygments_lexer": "ipython3",
   "version": "3.12.4"
  }
 },
 "nbformat": 4,
 "nbformat_minor": 2
}
