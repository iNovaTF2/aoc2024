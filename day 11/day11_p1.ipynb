{
 "cells": [
  {
   "cell_type": "code",
   "execution_count": 8,
   "metadata": {},
   "outputs": [],
   "source": [
    "import sys\n",
    "sys.set_int_max_str_digits(10000)"
   ]
  },
  {
   "cell_type": "code",
   "execution_count": 23,
   "metadata": {},
   "outputs": [],
   "source": [
    "file = open(\"input.txt\", \"r\")\n",
    "stones = [int(x) for x in file.read().split()]"
   ]
  },
  {
   "cell_type": "code",
   "execution_count": 24,
   "metadata": {},
   "outputs": [],
   "source": [
    "for x in file.read().split():\n",
    "    print(x)"
   ]
  },
  {
   "cell_type": "code",
   "execution_count": 25,
   "metadata": {},
   "outputs": [
    {
     "name": "stdout",
     "output_type": "stream",
     "text": [
      "199986\n"
     ]
    }
   ],
   "source": [
    "for _ in range(25):\n",
    "    output = []\n",
    "    for stone in stones:\n",
    "        if stone == 0:\n",
    "            output.append(1)\n",
    "        elif len(str(stone)) % 2 == 0:\n",
    "            stone_str = str(stone)\n",
    "            len_stone_str_split = int(len(stone_str) // 2)\n",
    "            output.append(int(stone_str[:len_stone_str_split]))\n",
    "            output.append(int(stone_str[len_stone_str_split:]))\n",
    "        else:\n",
    "            output.append(stone * 2024)\n",
    "    \n",
    "    stones = output\n",
    "\n",
    "print(len(stones))\n"
   ]
  },
  {
   "cell_type": "code",
   "execution_count": null,
   "metadata": {},
   "outputs": [],
   "source": []
  }
 ],
 "metadata": {
  "kernelspec": {
   "display_name": "Python 3",
   "language": "python",
   "name": "python3"
  },
  "language_info": {
   "codemirror_mode": {
    "name": "ipython",
    "version": 3
   },
   "file_extension": ".py",
   "mimetype": "text/x-python",
   "name": "python",
   "nbconvert_exporter": "python",
   "pygments_lexer": "ipython3",
   "version": "3.12.4"
  }
 },
 "nbformat": 4,
 "nbformat_minor": 2
}
