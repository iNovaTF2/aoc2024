{
 "cells": [
  {
   "cell_type": "code",
   "execution_count": 7,
   "metadata": {},
   "outputs": [],
   "source": [
    "input_str = \"\"\"89010123\n",
    "78121874\n",
    "87430965\n",
    "96549874\n",
    "45678903\n",
    "32019012\n",
    "01329801\n",
    "10456732\"\"\"\n",
    "\n",
    "input_str = input_str.splitlines()"
   ]
  },
  {
   "cell_type": "code",
   "execution_count": 8,
   "metadata": {},
   "outputs": [],
   "source": [
    "grid = [[int(i) for i in line.strip()] for line in input_str]\n",
    "\n",
    "rows = len(grid)\n",
    "cols = len(grid[0])\n",
    "\n",
    "trailheads = [(row, col) for row in range(rows) for col in range(cols) if grid[row][col] == 0]"
   ]
  },
  {
   "cell_type": "code",
   "execution_count": 13,
   "metadata": {},
   "outputs": [],
   "source": [
    "from collections import deque"
   ]
  },
  {
   "cell_type": "code",
   "execution_count": 21,
   "metadata": {},
   "outputs": [
    {
     "data": {
      "text/plain": [
       "5"
      ]
     },
     "execution_count": 21,
     "metadata": {},
     "output_type": "execute_result"
    }
   ],
   "source": [
    "q = deque([(0, 2)])\n",
    "summits = 0\n",
    "seen = {(0, 2)}\n",
    "\n",
    "while len(q) > 0:\n",
    "    cr, cc = q.popleft()\n",
    "    for nr, nc in [(cr+1, cc), (cr, cc+1), (cr-1, cc), (cr, cc-1)]:\n",
    "        if nr < 0 or nc < 0 or nr >= rows or nc >= cols: continue # check out of bounds\n",
    "        if grid[nr][nc] != grid[cr][cc] + 1: continue\n",
    "        if (nr, nc) in seen: continue\n",
    "        seen.add((nr ,nc))\n",
    "        if grid[nr][nc] == 9: \n",
    "            summits += 1\n",
    "        else:\n",
    "            q.append((nr, nc))\n",
    "\n",
    "summits\n"
   ]
  },
  {
   "cell_type": "code",
   "execution_count": 24,
   "metadata": {},
   "outputs": [],
   "source": [
    "def get_summits(grid, r, c):\n",
    "    q = deque([(r, c)])\n",
    "    summits = 0\n",
    "    seen = {(r, c)}\n",
    "\n",
    "    while len(q) > 0:\n",
    "        cr, cc = q.popleft()\n",
    "        for nr, nc in [(cr+1, cc), (cr, cc+1), (cr-1, cc), (cr, cc-1)]:\n",
    "            if nr < 0 or nc < 0 or nr >= rows or nc >= cols: continue # check out of bounds\n",
    "            if grid[nr][nc] != grid[cr][cc] + 1: continue\n",
    "            if (nr, nc) in seen: continue\n",
    "            seen.add((nr ,nc))\n",
    "            if grid[nr][nc] == 9: \n",
    "                summits += 1\n",
    "            else:\n",
    "                q.append((nr, nc))\n",
    "    \n",
    "    return summits"
   ]
  },
  {
   "cell_type": "code",
   "execution_count": 26,
   "metadata": {},
   "outputs": [
    {
     "name": "stdout",
     "output_type": "stream",
     "text": [
      "36\n"
     ]
    }
   ],
   "source": [
    "score = 0\n",
    "\n",
    "for trailhead in trailheads:\n",
    "    score += get_summits(grid, trailhead[0], trailhead[1])\n",
    "\n",
    "print(score)"
   ]
  },
  {
   "cell_type": "code",
   "execution_count": null,
   "metadata": {},
   "outputs": [],
   "source": []
  }
 ],
 "metadata": {
  "kernelspec": {
   "display_name": "thesis-env",
   "language": "python",
   "name": "python3"
  },
  "language_info": {
   "codemirror_mode": {
    "name": "ipython",
    "version": 3
   },
   "file_extension": ".py",
   "mimetype": "text/x-python",
   "name": "python",
   "nbconvert_exporter": "python",
   "pygments_lexer": "ipython3",
   "version": "3.12.3"
  }
 },
 "nbformat": 4,
 "nbformat_minor": 2
}
